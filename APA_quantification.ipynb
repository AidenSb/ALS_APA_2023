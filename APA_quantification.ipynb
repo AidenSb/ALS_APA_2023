{
 "cells": [
  {
   "cell_type": "markdown",
   "metadata": {},
   "source": [
    "# \"Single-nucleus Multiomic Atlas of Frontal Cortex in ALS: A Deep Learning Approach\"\n",
    "\n",
    "This Jupyter notebook is dedicated to reproducing results from the paper:\n",
    "\n",
    "> \"Single-nucleus Multiomic Atlas of Frontal Cortex in Amyotrophic Lateral Sclerosis with a Deep Learning-based Decoding of Alternative Polyadenylation Mechanisms\" by Paul M. Mckeever and Aiden M. Sababi (2023).\n",
    "\n",
    "The paper presents a comprehensive analysis of single-nucleus multiomics in the context of amyotrophic lateral sclerosis (ALS), focusing on alternative polyadenylation mechanisms using deep learning techniques.\n",
    "\n",
    "The primary objective of this notebook is to replicate key analysis steps in the study, providing a transparent and reproducible path for validation and further exploration.\n",
    "\n",
    "The paper can be found [here](https://www.biorxiv.org/content/10.1101/2023.12.22.573083v1.full).\n"
   ]
  },
  {
   "cell_type": "code",
   "execution_count": null,
   "metadata": {
    "vscode": {
     "languageId": "r"
    }
   },
   "outputs": [],
   "source": [
    "library(ggplot2)\n",
    "library(dplyr)\n",
    "library(stringr)\n",
    "library(ggplot2)\n",
    "library(tidyverse)\n",
    "library(parallel)\n",
    "library(MAAPER)"
   ]
  },
  {
   "cell_type": "markdown",
   "metadata": {},
   "source": [
    "# MAAPER\n",
    "> we use a package called [MAAPER](https://github.com/Vivianstats/MAAPER/) to confidently assing reads to the PA atlas.\n"
   ]
  },
  {
   "cell_type": "code",
   "execution_count": null,
   "metadata": {
    "vscode": {
     "languageId": "r"
    }
   },
   "outputs": [],
   "source": [
    "bam_root <- '/data1/APA/Paul_ALS_Data/bams_in/subscelltype_bamfiles/'\n",
    "setwd(bam_root)\n",
    "\n",
    "reference.gtf <- '/home/aiden/data/refgenome/refdata-gex-GRCh38-2020-A/genes//genes.gtf'\n",
    "apa_atlas <- readRDS('/data1/APA/Paul_ALS_Data/bams_in/subscelltype_bamfiles/human.PAS.hg38.rds')\n",
    "outdir <- \"/data1/APA/Paul_ALS_Data/bams_in/subscelltype_bamfiles/Mapper_outs\"\n",
    "\n",
    "\n",
    "call_mapper <- function(path, c1, c2){\n",
    "    outdir <- \"/data1/APA/Paul_ALS_Data/bams_in/subscelltype_bamfiles/Mapper_outs\"\n",
    "    ast_map_out <- paste0(outdir,\"/\", path)\n",
    "    maaper(reference.gtf, apa_atlas, bam_c1=c1, bam_c2=c2, \n",
    "          output_dir=ast_map_out, read_len=91, ncores=62, bed=TRUE)\n",
    "\n",
    "}\n",
    "\n",
    "\n",
    "## example of running MAAPER for pseudobulk celltypes. \n",
    "## It is recommended to run this individually for each celltype comparison, in case of memory issues and other errors.\n",
    "setwd('../Microglia/')\n",
    "bamfiles = list.files(pattern = \"*.bam$\")\n",
    "control_bams <- as.vector(paste0(root,\"Microglia/\",bamfiles[which(startsWith(bamfiles, \"CTRL\"))]))\n",
    "C9ALS_bams <- as.vector(paste0(root,\"Microglia/\",bamfiles[which(startsWith(bamfiles, \"C9ALS\"))]))\n",
    "sALS_bams <- as.vector(paste0(root,\"Microglia/\",bamfiles[which(startsWith(bamfiles, \"sALSnoFTLD\"))]))\n",
    "\n",
    "call_mapper(\"Microglia_C9ALSvsCTRL\", C9ALS_bams, control_bams)"
   ]
  },
  {
   "cell_type": "code",
   "execution_count": null,
   "metadata": {
    "vscode": {
     "languageId": "r"
    }
   },
   "outputs": [],
   "source": []
  },
  {
   "cell_type": "markdown",
   "metadata": {},
   "source": [
    "# APAlog\n",
    "> we used the [APAlog](https://github.com/goodarzilab/APAlog) package to delve deeper into differential poly(A) site usage patterns. APAlog operates on the normalized counts of reads mapped to each poly(A) site to assess the extent and nature of differential usage. For a comprehensive comparison, APAlog was run in Pairwise Test mode, which enables the comparison of all possible pairs of poly(A) sites per transcript"
   ]
  },
  {
   "cell_type": "code",
   "execution_count": null,
   "metadata": {
    "vscode": {
     "languageId": "r"
    }
   },
   "outputs": [],
   "source": [
    "setwd('/data1/APA/Paul_ALS_Data/bams_in/subscelltype_bamfiles/Mapper_outs/')"
   ]
  },
  {
   "cell_type": "code",
   "execution_count": null,
   "metadata": {
    "vscode": {
     "languageId": "r"
    }
   },
   "outputs": [],
   "source": [
    "# functions\n",
    "nmor_factor <- function (expression.data.frame, data.columns){\n",
    "  gm_mean_z <- function(x){\n",
    "    exp(sum(log(x)) / length(x))\n",
    "  }\n",
    "  edf <- expression.data.frame\n",
    "  id.names <- names(edf)\n",
    "  geo.mean.vec <- apply(edf[,data.columns], 1, function(x) gm_mean_z(x))\n",
    "  ratios.df <- edf[,data.columns]/geo.mean.vec\n",
    "  # Division by 0 gm_mean will create NAs here.\n",
    "  normalization.factors <- apply(ratios.df, 2, function(x) median(x, na.rm=TRUE))\n",
    "  return(normalization.factors)\n",
    "}\n",
    "\n",
    "\n",
    "## read in the table and then normalize and make count table for it\n",
    "count_table_for_APAlog <- function(df){\n",
    "    sf <- nmor_factor(df, c(8:9))\n",
    "    df <- df %>% mutate(ALS = ALS_PAcount/sf[1], CTRL = ctrl_PAcount/sf[2])\n",
    "    df <- df %>% gather(condition, normalized_count, `ALS`:`CTRL`) %>% arrange(pas, type, condition)\n",
    "    return(df)\n",
    "}\n",
    "root_dir <- \"/data1/APA/Paul_ALS_Data/bams_in/subscelltype_bamfiles/Mapper_outs/\"\n",
    "# sub_cts <- list.files()\n",
    "sub_cts <- c('Astrocytes_C9ALSvsCTRL', 'Astrocytes_sALSvsCTRL') ## Sep 20. 2022>> doing this for only astrocytes\n",
    "for (ct in sub_cts){\n",
    "    inp_df <- read.csv(paste0(ct,\"/pas_counts.txt\"), sep='\\t')\n",
    "    out_file <- paste0(ct,\"/APAlog_pas_count_input.txt\")\n",
    "    out_df <- count_table_for_APAlog(inp_df)\n",
    "    write.table(out_df, file=out_file, quote=F, sep='\\t', row.names = F)   \n",
    "}"
   ]
  },
  {
   "cell_type": "code",
   "execution_count": null,
   "metadata": {
    "vscode": {
     "languageId": "r"
    }
   },
   "outputs": [],
   "source": [
    "## do this for for all the celltypes and conditions\n",
    "run_APAlog <- function(ct) {\n",
    "    \n",
    "    root_dir <- \"/data1/APA/Paul_ALS_Data/bams_in/subscelltype_bamfiles/Mapper_outs/\"\n",
    "    ## read in and process the count dataframe\n",
    "    inp_df <- read.csv(paste0(ct,\"/APAlog_pas_count_input.txt\"), sep='\\t')\n",
    "    inp_df <- inp_df[, c(1,2,10,11)]\n",
    "    colnames(inp_df) <- c('transcript', 'pA.site','sample','count')\n",
    "    inp_df[sapply(inp_df, is.character)] <- lapply(inp_df[sapply(inp_df, is.character)], as.factor)\n",
    "    \n",
    "    ## make the design table\n",
    "    design_table <- data.frame(sample=c('ALS', 'CTRL'),\n",
    "                           Condition=c('ALS_pathology','Control'))\n",
    "    design_table$sample <- factor(design_table$sample, levels=c('CTRL', 'ALS'))\n",
    "    design_table$Condition <- factor(design_table$Condition, levels=c('Control', 'ALS_pathology'))\n",
    "    \n",
    "    ## run the APAlog in overal mode\n",
    "    fit.o_test <- APAlog::pA_logit_dev(inp_df,\n",
    "                                     pA.site ~ Condition,\n",
    "                                     design_table,\n",
    "                                     \"sample\",  \n",
    "                                     adj_method = \"fdr\")\n",
    "    ## run the APAlog in pairwise mode\n",
    "    fit.p_test <- APAlog::pA_logit_pairwise(inp_df, pA.site~Condition, design_table, \"sample\")\n",
    "    \n",
    "    ## merge the dataframes\n",
    "    fit.op_test <- merge(fit.o_test, fit.p_test, by = \"transcript\")\n",
    "    \n",
    "    outname <- paste0(root_dir,ct,\"/APAlog_res.tsv\")\n",
    "    write.table(fit.op_test, file=outname, quote=F, sep='\\t', row.names = F)\n",
    "    \n",
    "    plt <- volcano_plot_2(fit.op_test,\n",
    "                     x='b_ConditionALS_pathology',\n",
    "                     y='p_ConditionALS_pathology',\n",
    "                     title=paste0('Volcano plot for ALS vs Control for ',ct),\n",
    "                     pCutoff = 0.05,\n",
    "                     FCcutoff = .5,\n",
    "                     ylim=c(0,10), pointsize = 1)\n",
    "    plot_name <- paste0(root_dir,ct,\"/APAlog_volcano_plot.pdf\")\n",
    "    pdf(file = plot_name)\n",
    "    print(plt)\n",
    "    dev.off()\n",
    "    \n",
    "}\n",
    "\n",
    "\n",
    "### adding needed extra informatio to the dataframes\n",
    "add_meta_information <- function(ct){\n",
    "    \n",
    "    root_dir <- \"/data1/APA/Paul_ALS_Data/bams_in/subscelltype_bamfiles/Mapper_outs/\"\n",
    "    inp_df <- read.csv(paste0(ct,\"/APAlog_res.tsv\"), sep='\\t')\n",
    "    inp_df <- inp_df %>% mutate(strand=gsub(\".*:.*:(.*)\",\"\\\\1\",ref_site)) %>%\n",
    "                mutate(multiplyer= ifelse(strand==\"+\",1,-1)) %>%\n",
    "                mutate(LFC_PA_Usage=b_ConditionALS_pathology*multiplyer) %>% \n",
    "                mutate(negative_logFDR=-log(p_ConditionALS_pathology, base=10)) %>%\n",
    "                mutate(switch_width=as.numeric(gsub(\".*:(.*):.*\",\"\\\\1\",alt_site)) - as.numeric(gsub(\".*:(.*):.*\",\"\\\\1\",ref_site))) %>%\n",
    "                mutate(bed = paste0(gsub(\"(.*):.*:.*\",\"\\\\1\",ref_site), ',',\n",
    "                                    gsub(\".*:(.*):.*\",\"\\\\1\",ref_site), ',',\n",
    "                                    gsub(\".*:(.*):.*\",\"\\\\1\",alt_site)))\n",
    "    \n",
    "    ### correcting handful of cases where the proximal and distal positions are reversed in ref_site and Alt_sites\n",
    "\n",
    "    inp_df <- inp_df %>% mutate(correction_multiplyer = ifelse(switch_width <= -1, -1, 1)) %>%\n",
    "                         mutate(switch_width=switch_width*correction_multiplyer) %>%\n",
    "                         mutate(LFC_PA_Usage=LFC_PA_Usage*correction_multiplyer) %>%\n",
    "                         mutate(switch_name = ifelse(correction_multiplyer==-1, paste0(gsub(\"(.*):.*:.*\",\"\\\\1\",ref_site),':',\n",
    "                                                     transcript,\":\",gsub(\".*:(.*):.*\",\"\\\\1\",alt_site),\n",
    "                                                     ':',gsub(\".*:(.*):.*\",\"\\\\1\",ref_site),':',strand),\n",
    "                                                     paste0(gsub(\"(.*):.*:.*\",\"\\\\1\",ref_site),':',\n",
    "                                                     transcript,\":\",gsub(\".*:(.*):.*\",\"\\\\1\",ref_site),\n",
    "                                                     ':',gsub(\".*:(.*):.*\",\"\\\\1\",alt_site),':',strand)))\n",
    "    \n",
    "    outname <- paste0(root_dir,ct,\"/APAlog_res_metadata_added.tsv\")\n",
    "    print(outname)\n",
    "    write.table(inp_df, file=outname, quote=F, sep='\\t', row.names = F)\n",
    "    \n",
    "}\n",
    "\n",
    "## make the bed files to get the sequences\n",
    "## add upstream of the proximal sites\n",
    "get_bed_files <- function(ct){\n",
    "    inp_df <- read.csv(paste0(ct,\"/APAlog_res_metadata_added.tsv\"), sep='\\t')\n",
    "    inp_df <- inp_df %>% filter(switch_width >= 200) %>% filter(switch_width <= 15000)\n",
    "    inp_df <- data.frame(inp_df['switch_name'],inp_df['strand'])\n",
    "    \n",
    "    inp_df <- inp_df %>% mutate(chr=gsub(\"(.*):.*:.*:.*:.*\",\"\\\\1\",switch_name)) %>%\n",
    "                          mutate(start=as.character(ifelse(strand=='+',\n",
    "                                                           as.numeric(gsub(\".*:.*:(.*):.*:.*\",\"\\\\1\",switch_name)) - 1000,\n",
    "                                                           gsub(\".*:.*:(.*):.*:.*\",\"\\\\1\",switch_name)))) %>%\n",
    "                          mutate(end=as.character(ifelse(strand=='-',\n",
    "                                                           as.numeric(gsub(\".*:.*:.*:(.*):.*\",\"\\\\1\",switch_name)) + 1000,\n",
    "                                                           gsub(\".*:.*:.*:(.*):.*\",\"\\\\1\",switch_name)))) \n",
    "    \n",
    "    \n",
    "    inp_df <- data.frame(inp_df['chr'],inp_df['start'],inp_df['end'],inp_df['switch_name'])\n",
    "    outname <- paste0(root_dir,ct,\"/switch_region.bed\")\n",
    "    write.table(inp_df,file=outname, sep='\\t', quote=F, row.names = F, col.names = F)\n",
    "}\n",
    "\n",
    "adj_p <- function(x, pcols, adj_method){\n",
    "    y <- x[, pcols, drop = FALSE]\n",
    "    if (adj_method == \"qvalue\"){\n",
    "        y <- apply(y, 2, function(t) qvalue::qvalue(t)$qvalues)\n",
    "    } else {\n",
    "        y <- apply(y, 2, function(t) stats::p.adjust(t, method = adj_method))\n",
    "    }\n",
    "\n",
    "    newnames <- paste0(adj_method, \"_\", colnames(y))\n",
    "    z <- data.frame(x,y)\n",
    "    colnames(z)[(NCOL(x)+1) : NCOL(z)] <- newnames\n",
    "    return(z)\n",
    "}\n",
    "\n",
    "# this function finds the signficance threshold based on the adjusted p values\n",
    "get_sig_threshold <- function(df){\n",
    "    df <- df %>% arrange(fdr_p_ConditionALS_pathology)\n",
    "    return(df[which(df$fdr_p_ConditionALS_pathology > 0.05),][1,]$p_ConditionALS_pathology)\n",
    "}"
   ]
  },
  {
   "cell_type": "code",
   "execution_count": null,
   "metadata": {
    "vscode": {
     "languageId": "r"
    }
   },
   "outputs": [],
   "source": [
    "r <- mclapply(sub_cts, run_APAlog, mc.cores = 32)  \n",
    "r <- mclapply(sub_cts, add_meta_information, mc.cores = 28) \n",
    "r <- mclapply(sub_cts, get_bed_files, mc.cores = 28)  "
   ]
  },
  {
   "cell_type": "code",
   "execution_count": null,
   "metadata": {
    "vscode": {
     "languageId": "r"
    }
   },
   "outputs": [],
   "source": [
    "data_root = \"/data1/APA/Paul_ALS_Data/bams_in/subscelltype_bamfiles/Mapper_outs/\"\n",
    "# list directories that ends with 'C9ALSvsCTRL'\n",
    "sub_cts <- list.dirs(data_root, recursive = F, full.names = F)\n",
    "c9_als_sub_cts <- sub_cts[grep(\"C9ALSvsCTRL\", sub_cts)]\n",
    "s_als_sub_cts <- sub_cts[grep(\"sALSvsCTRL\", sub_cts)]"
   ]
  }
 ],
 "metadata": {
  "kernelspec": {
   "display_name": "R",
   "language": "R",
   "name": "ir"
  },
  "language_info": {
   "name": "R"
  }
 },
 "nbformat": 4,
 "nbformat_minor": 2
}
